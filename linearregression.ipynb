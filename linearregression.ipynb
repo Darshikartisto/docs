{
  "nbformat": 4,
  "nbformat_minor": 0,
  "metadata": {
    "colab": {
      "provenance": [],
      "authorship_tag": "ABX9TyPxVW0vgxJOpLucNr1W4ICj",
      "include_colab_link": true
    },
    "kernelspec": {
      "name": "python3",
      "display_name": "Python 3"
    },
    "language_info": {
      "name": "python"
    }
  },
  "cells": [
    {
      "cell_type": "markdown",
      "metadata": {
        "id": "view-in-github",
        "colab_type": "text"
      },
      "source": [
        "<a href=\"https://colab.research.google.com/github/Darshikartisto/docs/blob/main/linearregression.ipynb\" target=\"_parent\"><img src=\"https://colab.research.google.com/assets/colab-badge.svg\" alt=\"Open In Colab\"/></a>"
      ]
    },
    {
      "cell_type": "code",
      "execution_count": 1,
      "metadata": {
        "colab": {
          "base_uri": "https://localhost:8080/"
        },
        "id": "3FUNiFEdq1T_",
        "outputId": "c501737c-69e9-44d8-d803-c4073e374b4f"
      },
      "outputs": [
        {
          "output_type": "stream",
          "name": "stdout",
          "text": [
            "mean square error 1826.5364191345423\n",
            "weights: [  -1.16924976 -237.18461486  518.30606657  309.04865826 -763.14121622\n",
            "  458.90999325   80.62441437  174.32183366  721.49712065   79.19307944]\n",
            "intercept: 153.05827988224112\n"
          ]
        }
      ],
      "source": [
        "import matplotlib.pyplot as plt\n",
        "import numpy as np\n",
        "from sklearn import datasets,linear_model\n",
        "from sklearn.metrics import mean_squared_error\n",
        "diabetes=datasets.load_diabetes()\n",
        "diabetes_X=diabetes.data\n",
        "#considering the above line we have taken all the lables\n",
        "#print(diabetes.keys())\n",
        "#print(diabetes.DESCR)\n",
        "#The whole data about diabetes was uploaded by including import datasets,linear_model at the top\n",
        "# 1->diabetes_X=diabetes.data[:,np.newaxis,2]\n",
        "#we are taking one feature and one label by mentioning the above line.for example\n",
        "# considering the above line we have taken the lable which was at index 2 in myu dataset\n",
        "#print(diabetes_X)\n",
        "diabetes_X_train=diabetes_X[:-30]\n",
        "diabetes_X_test=diabetes_X[-30:]\n",
        "diabetes_Y_train=diabetes.target[:-30]\n",
        "diabetes_Y_test=diabetes.target[-30:]\n",
        "model=linear_model.LinearRegression()\n",
        "model.fit(diabetes_X_train,diabetes_Y_train)\n",
        "diabetes_Y_predicted=model.predict(diabetes_X_test)\n",
        "print(\"mean square error\",mean_squared_error(diabetes_Y_test,diabetes_Y_predicted))\n",
        "#mean square error while considering above 1-> line is 3035\n",
        "print(\"weights:\",model.coef_)\n",
        "print(\"intercept:\",model.intercept_)\n",
        "#plt.scatter(diabetes_X_test,diabetes_Y_test)\n",
        "#plt.plot(diabetes_X_test,diabetes_Y_predicted)\n",
        "#plt.show()\n",
        "#these lines needs to be modified if we want to consider all the labels as these cannot plot\n",
        "#After taking other lables into consideration we can see the mean square error switch from 3035 to 1826"
      ]
    }
  ]
}